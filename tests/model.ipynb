{
 "cells": [
  {
   "cell_type": "code",
   "execution_count": 1,
   "metadata": {},
   "outputs": [],
   "source": [
    "import os\n",
    "import sys\n",
    "import tensorflow as tf\n",
    "\n",
    "# we need to append the root directory to the path to import data.py\\n\",\n",
    "sys.path.append('..')\n",
    "import data\n",
    "import utils\n",
    "import model\n",
    "\n",
    "%load_ext autoreload\n",
    "%autoreload 2"
   ]
  },
  {
   "cell_type": "code",
   "execution_count": 2,
   "metadata": {},
   "outputs": [],
   "source": [
    "params = utils.yaml_to_dict('../config.yml')\n",
    "params['data_dir_images'] = os.path.join('..', params['data_dir_images'])\n",
    "params['data_dir'] = os.path.join('..', params['data_dir'])"
   ]
  },
  {
   "cell_type": "markdown",
   "metadata": {},
   "source": [
    "## Model Summary"
   ]
  },
  {
   "cell_type": "code",
   "execution_count": 3,
   "metadata": {},
   "outputs": [
    {
     "name": "stdout",
     "output_type": "stream",
     "text": [
      "_________________________________________________________________\n",
      "Layer (type)                 Output Shape              Param #   \n",
      "=================================================================\n",
      "conv2d (Conv2D)              (None, 112, 112, 32)      896       \n",
      "_________________________________________________________________\n",
      "batch_normalization (BatchNo (None, 112, 112, 32)      128       \n",
      "_________________________________________________________________\n",
      "activation (Activation)      (None, 112, 112, 32)      0         \n",
      "_________________________________________________________________\n",
      "depthwise_separable_convolut (None, 112, 112, 64)      3840      \n",
      "_________________________________________________________________\n",
      "depthwise_separable_convolut (None, 56, 56, 128)       13824     \n",
      "_________________________________________________________________\n",
      "depthwise_separable_convolut (None, 56, 56, 128)       35200     \n",
      "_________________________________________________________________\n",
      "depthwise_separable_convolut (None, 28, 28, 256)       52224     \n",
      "_________________________________________________________________\n",
      "depthwise_separable_convolut (None, 28, 28, 256)       135936    \n",
      "_________________________________________________________________\n",
      "depthwise_separable_convolut (None, 14, 14, 512)       202752    \n",
      "_________________________________________________________________\n",
      "depthwise_separable_convolut (None, 14, 14, 512)       534016    \n",
      "_________________________________________________________________\n",
      "depthwise_separable_convolut (None, 14, 14, 512)       534016    \n",
      "_________________________________________________________________\n",
      "depthwise_separable_convolut (None, 14, 14, 512)       534016    \n",
      "_________________________________________________________________\n",
      "depthwise_separable_convolut (None, 14, 14, 512)       534016    \n",
      "_________________________________________________________________\n",
      "depthwise_separable_convolut (None, 14, 14, 512)       534016    \n",
      "_________________________________________________________________\n",
      "depthwise_separable_convolut (None, 7, 7, 1024)        798720    \n",
      "_________________________________________________________________\n",
      "depthwise_separable_convolut (None, 7, 7, 1024)        2116608   \n",
      "_________________________________________________________________\n",
      "global_average_pooling2d (Gl (None, 1024)              0         \n",
      "_________________________________________________________________\n",
      "dense (Dense)                (None, 120)               123000    \n",
      "_________________________________________________________________\n",
      "activation_1 (Activation)    (None, 120)               0         \n",
      "=================================================================\n",
      "Total params: 6,153,208\n",
      "Trainable params: 6,131,320\n",
      "Non-trainable params: 21,888\n",
      "_________________________________________________________________\n"
     ]
    }
   ],
   "source": [
    "inputs = tf.keras.layers.Input(shape=(224, 224, 3))\n",
    "architecture = model.MobilNet_Architecture(width_multiplier=1)\n",
    "x = architecture(inputs, training=False)\n",
    "architecture.summary()"
   ]
  }
 ],
 "metadata": {
  "kernelspec": {
   "display_name": "Python 3",
   "language": "python",
   "name": "python3"
  },
  "language_info": {
   "codemirror_mode": {
    "name": "ipython",
    "version": 3
   },
   "file_extension": ".py",
   "mimetype": "text/x-python",
   "name": "python",
   "nbconvert_exporter": "python",
   "pygments_lexer": "ipython3",
   "version": "3.6.8"
  }
 },
 "nbformat": 4,
 "nbformat_minor": 2
}
